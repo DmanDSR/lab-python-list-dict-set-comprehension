{
 "cells": [
  {
   "cell_type": "code",
   "execution_count": 718,
   "id": "f0f9d5fe",
   "metadata": {},
   "outputs": [],
   "source": [
    "products = [\"t-shirt\", \"mug\", \"hat\", \"book\", \"keychain\"] # list of products"
   ]
  },
  {
   "cell_type": "code",
   "execution_count": 719,
   "id": "422684b3",
   "metadata": {},
   "outputs": [],
   "source": [
    "inventory = { } # empty inventory dictionary"
   ]
  },
  {
   "cell_type": "code",
   "execution_count": 720,
   "id": "70f195f7",
   "metadata": {},
   "outputs": [],
   "source": [
    "customer_orders = set() # empty set \n",
    "#type(customer_orders) #type checker"
   ]
  },
  {
   "cell_type": "code",
   "execution_count": 721,
   "id": "d19ac4f1",
   "metadata": {},
   "outputs": [],
   "source": [
    "#asks for the inventory numbers\n",
    "def initialize_inventory(inp):\n",
    "\n",
    "    inv = {i: input(\"please input the inventory number for \" + i + \": \" ) for i in inp }\n",
    "    return inv"
   ]
  },
  {
   "cell_type": "code",
   "execution_count": 722,
   "id": "9b9e4353",
   "metadata": {},
   "outputs": [],
   "source": [
    "#asks the customer for what they want to order\n",
    "def get_customer_orders():\n",
    "    \n",
    "    num = int(input(\"\\nEnter the number of products you want to order: \"))\n",
    "    cuor = {input(f\"Please input product order {i + 1}: \").lower() for i in range(num)}\n",
    "    \"\"\"\n",
    "    while ans:\n",
    "        cus_pro = input(\"Please input a product you want to order:\")\n",
    "        cus_pro.lower()\n",
    "        cuor.add(cus_pro)\n",
    "\n",
    "        response = input(\"do you want to add another item, yes or no \")\n",
    "        response.lower()\n",
    "        if response == 'no':\n",
    "            ans = False\n",
    "\"\"\"\n",
    "    return cuor"
   ]
  },
  {
   "cell_type": "code",
   "execution_count": 723,
   "id": "871bff0e",
   "metadata": {},
   "outputs": [],
   "source": [
    "#calculates order stats\n",
    "def calculate_order_statistics(customer_orders, products):\n",
    "    tpo = len(customer_orders)\n",
    "    popo = (len(customer_orders)/len(products))*100 \n",
    "    \n",
    "    return [tpo, popo]"
   ]
  },
  {
   "cell_type": "code",
   "execution_count": 724,
   "id": "eefdf94b",
   "metadata": {},
   "outputs": [],
   "source": [
    "#prints order stats\n",
    "def print_order_statistics(order_statistics):\n",
    "    print(\"\\nOrder Statistics\")\n",
    "    print(\"Total Products Ordered: \", order_statistics[0])\n",
    "    print(\"Percentage of Products Ordered:\", order_statistics[1], \"\\n\")"
   ]
  },
  {
   "cell_type": "code",
   "execution_count": 725,
   "id": "0bd1368b",
   "metadata": {},
   "outputs": [],
   "source": [
    "#updates inventory\n",
    "def update_inventory(c_o, inv):\n",
    "    key = 0\n",
    "    while key <len(c_o):\n",
    "            name = list(c_o)[key]\n",
    "            inv[name] = int(inv[name]) - 1\n",
    "            \n",
    "            if inv[name] == 0: inv.pop(name)\n",
    "            key+=1\n",
    "    return c_o,inv"
   ]
  },
  {
   "cell_type": "code",
   "execution_count": 726,
   "id": "2ea1fa33",
   "metadata": {},
   "outputs": [],
   "source": [
    "#prints the updated inventory\n",
    "def print_updated_inventory(inv):\n",
    "    \n",
    "    #for loop in products:\n",
    "       # print(\"The inventory for \" + loop + \" is: \", inv[loop])\n",
    "    #inv = [loop: (inv[loop] if inv[loop != '0' else inv.pop(loop))  for loop in products]\n",
    "    \n",
    "    [print(\"The inventory for \" + loop + \" is:\", inv[loop]) for loop in inv]  \n",
    "        "
   ]
  },
  {
   "cell_type": "code",
   "execution_count": 727,
   "id": "ac865ad5",
   "metadata": {},
   "outputs": [],
   "source": [
    "def calculate_total_price (customer_orders):\n",
    "    value = 0\n",
    "    print(\" \")\n",
    "    val = [float(input(f\"enter the price for {str(list(customer_orders)[i])}: \")) for i in range(len(customer_orders))]\n",
    "    \n",
    "    for p in range(len(val)):\n",
    "        value = value +float(val[p])\n",
    "        \n",
    "    print(f\"\\nThe Total price is {round(float(value), 2)}\")\n",
    "     \n",
    "    #value = value + int(val[p]) for p in range(len(val))    \n",
    "    #value = value + int(val[p]) for p in range(len(val))\n",
    "    #print(f\"Total price is {p + p}\" for p in val)\n",
    "\n",
    "#calculate_total_price(customer_orders)"
   ]
  },
  {
   "cell_type": "code",
   "execution_count": 728,
   "id": "3aded0b6",
   "metadata": {},
   "outputs": [
    {
     "name": "stdout",
     "output_type": "stream",
     "text": [
      "please input the inventory number for t-shirt: 12\n",
      "please input the inventory number for mug: 1\n",
      "please input the inventory number for hat: 1\n",
      "please input the inventory number for book: 1\n",
      "please input the inventory number for keychain: 12\n",
      "\n",
      "Enter the number of products you want to order: 4\n",
      "Please input product order 1: hat\n",
      "Please input product order 2: mug\n",
      "Please input product order 3: book\n",
      "Please input product order 4: t-shirt\n",
      "\n",
      "Order Statistics\n",
      "Total Products Ordered:  4\n",
      "Percentage of Products Ordered: 80.0 \n",
      "\n",
      "The inventory for t-shirt is: 11\n",
      "The inventory for keychain is: 12\n",
      " \n",
      "enter the price for book: 15.2\n",
      "enter the price for hat: 12.69\n",
      "enter the price for t-shirt: 14.99\n",
      "enter the price for mug: 2.9\n",
      "\n",
      "The Total price is 45.78\n"
     ]
    }
   ],
   "source": [
    "inventory = initialize_inventory(products) # Product inventory input\n",
    "\n",
    "customer_orders = get_customer_orders() # What the customer wants to order\n",
    "\n",
    "# Calculates order stats\n",
    "order_statistics = calculate_order_statistics(customer_orders, products) \n",
    "\n",
    "print_order_statistics(order_statistics) # Prints stats\n",
    "\n",
    "update_inventory(customer_orders, inventory) # Updates the product inventory\n",
    "\n",
    "print_updated_inventory(inventory) # Prints the updated inventory   \n",
    "\n",
    "calculate_total_price(customer_orders)"
   ]
  }
 ],
 "metadata": {
  "kernelspec": {
   "display_name": "Python 3 (ipykernel)",
   "language": "python",
   "name": "python3"
  },
  "language_info": {
   "codemirror_mode": {
    "name": "ipython",
    "version": 3
   },
   "file_extension": ".py",
   "mimetype": "text/x-python",
   "name": "python",
   "nbconvert_exporter": "python",
   "pygments_lexer": "ipython3",
   "version": "3.11.7"
  }
 },
 "nbformat": 4,
 "nbformat_minor": 5
}
