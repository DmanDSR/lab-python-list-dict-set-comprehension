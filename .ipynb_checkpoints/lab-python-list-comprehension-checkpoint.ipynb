{
 "cells": [
  {
   "cell_type": "markdown",
   "id": "25d7736c-ba17-4aff-b6bb-66eba20fbf4e",
   "metadata": {},
   "source": [
    "# Lab | List, Dict and Set Comprehension"
   ]
  },
  {
   "cell_type": "markdown",
   "id": "7dd3cbde-675a-4b81-92c3-f728846dbe06",
   "metadata": {},
   "source": [
    "## Exercise: Managing Customer Orders Optimized with Comprehension"
   ]
  },
  {
   "cell_type": "markdown",
   "id": "5d500160-2fb7-4777-b5e4-09d45ebaf328",
   "metadata": {},
   "source": [
    "In the previous exercise, you developed a program to manage customer orders and inventory. Now, let's take it a step further and incorporate comprehension into your code.\n",
    "\n",
    "Follow the steps below to complete the exercise:\n",
    "\n",
    "1. Review your code from the previous exercise and identify areas where you can apply comprehension to simplify and streamline your code. \n",
    "\n",
    "    - *Hint: Apply it to initialize inventory, updating the inventory and printing the updated inventory.*\n",
    "    \n",
    "    - For example, in initializing the inventory, we could have:\n",
    "    \n",
    "        ```python\n",
    "        def initialize_inventory(products):\n",
    "            inventory = {product: int(input(f\"Enter the quantity of {product}s available: \")) for product in products}\n",
    "            return inventory\n",
    "\n",
    "        ```\n",
    "<br>\n",
    "    \n",
    "    \n",
    "2. Modify the function get_customer_orders so it prompts the user to enter the number of customer orders and gathers the product names using a loop and user input. Use comprehension.\n",
    "\n",
    "3. Add a new function to calculate the total price of the customer order. For each product in customer_orders, prompt the user to enter the price of that product. Use comprehension to calculate the total price. Note: assume that the user can only have 1 unit of each product.\n",
    "\n",
    "4. Modify the update_inventory function to remove the product from the inventory if its quantity becomes zero after fulfilling the customer orders. Use comprehension to filter out the products with a quantity of zero from the inventory.\n",
    "\n",
    "5. Print the total price of the customer order.\n",
    "\n",
    "Your code should produce output similar to the following:\n",
    "\n",
    "```python\n",
    "Enter the quantity of t-shirts available:  5\n",
    "Enter the quantity of mugs available:  4\n",
    "Enter the quantity of hats available:  3\n",
    "Enter the quantity of books available:  2\n",
    "Enter the quantity of keychains available:  1\n",
    "Enter the number of customer orders:  2\n",
    "Enter the name of a product that a customer wants to order:  hat\n",
    "Enter the name of a product that a customer wants to order:  keychain\n",
    "\n",
    "Order Statistics:\n",
    "Total Products Ordered: 2\n",
    "Percentage of Unique Products Ordered: 40.0\n",
    "\n",
    "Updated Inventory:\n",
    "t-shirt: 5\n",
    "mug: 4\n",
    "hat: 2\n",
    "book: 2\n",
    "Enter the price of keychain:  5\n",
    "Enter the price of hat:  10\n",
    "Total Price: 15.0\n",
    "\n",
    "```\n"
   ]
  },
  {
   "cell_type": "code",
   "execution_count": 12,
   "id": "0bb7e86a",
   "metadata": {},
   "outputs": [],
   "source": [
    "products = [\"t-shirt\", \"mug\", \"hat\", \"book\", \"keychain\"] # list of products"
   ]
  },
  {
   "cell_type": "code",
   "execution_count": 13,
   "id": "8be88019",
   "metadata": {},
   "outputs": [],
   "source": [
    "inventory = { } # empty inventory dictionary"
   ]
  },
  {
   "cell_type": "code",
   "execution_count": 14,
   "id": "32645f3f",
   "metadata": {},
   "outputs": [],
   "source": [
    "customer_orders = set() # empty set \n",
    "#type(customer_orders) #type checker"
   ]
  },
  {
   "cell_type": "code",
   "execution_count": 15,
   "id": "38c37dea",
   "metadata": {},
   "outputs": [],
   "source": [
    "#asks for the inventory numbers\n",
    "def initialize_inventory(inp):\n",
    "\n",
    "    inv = {i: input(\"Please input the inventory number for \" + i + \": \" ) for i in inp }\n",
    "    return inv"
   ]
  },
  {
   "cell_type": "code",
   "execution_count": 16,
   "id": "36ef6ff9",
   "metadata": {},
   "outputs": [],
   "source": [
    "#asks the customer for what they want to order\n",
    "def get_customer_orders():\n",
    "    \n",
    "    num = int(input(\"\\nEnter the number of products you want to order: \"))\n",
    "    cuor = {input(f\"Please input product order {i + 1}: \").lower() for i in range(num)}\n",
    "\n",
    "    return cuor"
   ]
  },
  {
   "cell_type": "code",
   "execution_count": 17,
   "id": "1e7fbe21",
   "metadata": {},
   "outputs": [],
   "source": [
    "#calculates order stats\n",
    "def calculate_order_statistics(customer_orders, products):\n",
    "    tpo = len(customer_orders)\n",
    "    popo = (len(customer_orders)/len(products))*100 \n",
    "    \n",
    "    return [tpo, popo]"
   ]
  },
  {
   "cell_type": "code",
   "execution_count": 18,
   "id": "f9221912",
   "metadata": {},
   "outputs": [],
   "source": [
    "#prints order stats\n",
    "def print_order_statistics(order_statistics):\n",
    "    print(\"\\nOrder Statistics\")\n",
    "    print(\"Total Products Ordered: \", order_statistics[0])\n",
    "    print(\"Percentage of Products Ordered:\", order_statistics[1], \"\\n\")"
   ]
  },
  {
   "cell_type": "code",
   "execution_count": 19,
   "id": "40dfc6e9",
   "metadata": {},
   "outputs": [],
   "source": [
    "#updates inventory\n",
    "def update_inventory(c_o, inv):\n",
    "    key = 0\n",
    "    while key <len(c_o):\n",
    "            name = list(c_o)[key]\n",
    "            inv[name] = int(inv[name]) - 1\n",
    "            \n",
    "            if inv[name] == 0: inv.pop(name)\n",
    "            key+=1\n",
    "    return c_o,inv"
   ]
  },
  {
   "cell_type": "code",
   "execution_count": 20,
   "id": "d2ce29b8",
   "metadata": {},
   "outputs": [],
   "source": [
    "#prints the updated inventory\n",
    "def print_updated_inventory(inv):\n",
    "    \n",
    "    [print(\"The inventory for \" + loop + \" is:\", inv[loop]) for loop in inv]  \n",
    "        "
   ]
  },
  {
   "cell_type": "code",
   "execution_count": 21,
   "id": "6a037184",
   "metadata": {},
   "outputs": [],
   "source": [
    "def calculate_total_price (customer_orders):\n",
    "    value = 0\n",
    "    print(\" \")\n",
    "    val = [float(input(f\"Enter the price for {str(list(customer_orders)[i])}: \")) for i in range(len(customer_orders))]\n",
    "    \n",
    "    for p in range(len(val)):\n",
    "        value = value +float(val[p])\n",
    "        \n",
    "    print(f\"\\nThe Total price is {round(float(value), 2)}\")"
   ]
  },
  {
   "cell_type": "code",
   "execution_count": 22,
   "id": "c53404f7",
   "metadata": {},
   "outputs": [
    {
     "name": "stdout",
     "output_type": "stream",
     "text": [
      "Please input the inventory number for t-shirt: 12\n",
      "Please input the inventory number for mug: 1\n",
      "Please input the inventory number for hat: 1\n",
      "Please input the inventory number for book: 1\n",
      "Please input the inventory number for keychain: 23\n",
      "\n",
      "Enter the number of products you want to order: 3\n",
      "Please input product order 1: HAT\n",
      "Please input product order 2: MUG\n",
      "Please input product order 3: BOOK\n",
      "\n",
      "Order Statistics\n",
      "Total Products Ordered:  3\n",
      "Percentage of Products Ordered: 60.0 \n",
      "\n",
      "The inventory for t-shirt is: 12\n",
      "The inventory for keychain is: 23\n",
      " \n",
      "Enter the price for book: 12\n",
      "Enter the price for hat: .23\n",
      "Enter the price for mug: 16.36\n",
      "\n",
      "The Total price is 28.59\n"
     ]
    }
   ],
   "source": [
    "inventory = initialize_inventory(products) # Product inventory input\n",
    "\n",
    "customer_orders = get_customer_orders() # What the customer wants to order\n",
    "\n",
    "# Calculates order stats\n",
    "order_statistics = calculate_order_statistics(customer_orders, products) \n",
    "\n",
    "print_order_statistics(order_statistics) # Prints stats\n",
    "\n",
    "update_inventory(customer_orders, inventory) # Updates the product inventory\n",
    "\n",
    "print_updated_inventory(inventory) # Prints the updated inventory   \n",
    "\n",
    "calculate_total_price(customer_orders)"
   ]
  }
 ],
 "metadata": {
  "kernelspec": {
   "display_name": "Python 3 (ipykernel)",
   "language": "python",
   "name": "python3"
  },
  "language_info": {
   "codemirror_mode": {
    "name": "ipython",
    "version": 3
   },
   "file_extension": ".py",
   "mimetype": "text/x-python",
   "name": "python",
   "nbconvert_exporter": "python",
   "pygments_lexer": "ipython3",
   "version": "3.11.7"
  }
 },
 "nbformat": 4,
 "nbformat_minor": 5
}
